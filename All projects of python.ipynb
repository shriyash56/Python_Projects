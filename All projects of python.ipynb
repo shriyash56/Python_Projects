{
 "cells": [
  {
   "cell_type": "markdown",
   "metadata": {},
   "source": [
    "# Project 1"
   ]
  },
  {
   "cell_type": "code",
   "execution_count": 1,
   "metadata": {},
   "outputs": [
    {
     "name": "stdout",
     "output_type": "stream",
     "text": [
      "88\n"
     ]
    }
   ],
   "source": [
    "import random\n",
    "\n",
    "health = 50\n",
    "\n",
    "difficulty = 1\n",
    "\n",
    "potion_health = int(random.randint(25,50) / difficulty)\n",
    "\n",
    "health += potion_health\n",
    "\n",
    "print(health)"
   ]
  },
  {
   "cell_type": "markdown",
   "metadata": {},
   "source": [
    "# Project 2"
   ]
  },
  {
   "cell_type": "code",
   "execution_count": 2,
   "metadata": {},
   "outputs": [
    {
     "name": "stdout",
     "output_type": "stream",
     "text": [
      "What is your name?: shriyash\n",
      "How old are you?: 20\n",
      "What city do you live in?: Nanded\n",
      "What do you love doing?: Watching movie\n",
      "Your name is shriyash and you are 20 years old. You live in Nanded and you love Watching movie\n"
     ]
    }
   ],
   "source": [
    "name = input(\"What is your name?: \")\n",
    "\n",
    "age = input(\"How old are you?: \")\n",
    "\n",
    "city = input(\"What city do you live in?: \")\n",
    "\n",
    "love = input(\"What do you love doing?: \")\n",
    "\n",
    "string = \"Your name is {} and you are {} years old. You live in {} and you love {}\"\n",
    "\n",
    "output = string.format(name, age, city, love)\n",
    "\n",
    "print(output)\n"
   ]
  },
  {
   "cell_type": "markdown",
   "metadata": {},
   "source": [
    "# Project 3"
   ]
  },
  {
   "cell_type": "code",
   "execution_count": 3,
   "metadata": {},
   "outputs": [
    {
     "name": "stdout",
     "output_type": "stream",
     "text": [
      "What is your email address?: shriyash@gmail.com\n",
      "Your username is shriyash and your domain name is gmail.com\n"
     ]
    }
   ],
   "source": [
    "email = input(\"What is your email address?: \").strip()\n",
    "\n",
    "user = email[:email.index(\"@\")]\n",
    "\n",
    "domain = email[email.index(\"@\") + 1 :]\n",
    "\n",
    "output = \"Your username is {} and your domain name is {}\".format(user, domain)\n",
    "\n",
    "print(output)\n"
   ]
  },
  {
   "cell_type": "markdown",
   "metadata": {},
   "source": [
    "# Project 4"
   ]
  },
  {
   "cell_type": "code",
   "execution_count": null,
   "metadata": {},
   "outputs": [
    {
     "name": "stdout",
     "output_type": "stream",
     "text": [
      "Hii my name is Shriyash\n",
      "What is your name?:Alice\n",
      "Hello Alice\n",
      "Would you like to be removed from the system(y/n)?:n\n",
      "No problem, I didn't want you to leave anyway!\n",
      "Hii my name is Shriyash\n",
      "What is your name?:suyash\n",
      "Hmmm i don't think I have met you yet Suyash\n",
      "Would you linke to be added to the system(y/n)?:y\n",
      "Hii my name is Shriyash\n",
      "What is your name?:suyash\n",
      "Hello Suyash\n",
      "Would you like to be removed from the system(y/n)?:y\n",
      "Hii my name is Shriyash\n",
      "What is your name?:suyash\n",
      "Hmmm i don't think I have met you yet Suyash\n"
     ]
    }
   ],
   "source": [
    "known_users=[\"Alice\",\"Bob\",\"Clair\",\"Emma\",\"Fred\",\"Georgie\",\"Harry\"]\n",
    "\n",
    "while True:\n",
    "    print(\"Hii my name is Shriyash\")\n",
    "    name=input(\"What is your name?:\").strip().capitalize()\n",
    "\n",
    "    if name in known_users:\n",
    "        print(\"Hello {}\".format(name))\n",
    "        remove=input(\"Would you like to be removed from the system(y/n)?:\").strip().lower()\n",
    "\n",
    "        if remove=='y':\n",
    "            known_users.remove(name)\n",
    "        elif remove=='n':\n",
    "            print(\"No problem, I didn't want you to leave anyway!\")\n",
    "\n",
    "    else:\n",
    "        print(\"Hmmm i don't think I have met you yet {}\".format(name))\n",
    "        add_me=input(\"Would you linke to be added to the system(y/n)?:\").strip().lower()\n",
    "\n",
    "        if add_me=='y':\n",
    "            known_users.append(name)\n",
    "        elif add_me=='n':\n",
    "            print(\"No worries, see you around!\")        \n"
   ]
  },
  {
   "cell_type": "markdown",
   "metadata": {},
   "source": [
    "# Project 5"
   ]
  },
  {
   "cell_type": "code",
   "execution_count": null,
   "metadata": {},
   "outputs": [
    {
     "name": "stdout",
     "output_type": "stream",
     "text": [
      "What film would you like to watch?:Tarzan\n",
      "How old are you?:18\n",
      "Enjoy the film!\n",
      "What film would you like to watch?:Tarzan\n",
      "How old are you?:25\n",
      "Enjoy the film!\n",
      "What film would you like to watch?:Tarzan\n",
      "How old are you?:66\n",
      "Enjoy the film!\n",
      "What film would you like to watch?:Tarzan\n",
      "How old are you?:19\n",
      "Enjoy the film!\n",
      "What film would you like to watch?:Tarzan\n",
      "How old are you?:18\n",
      "Enjoy the film!\n",
      "What film would you like to watch?:Tarzan\n",
      "How old are you?:28\n",
      "Sorry, We are sold out!\n",
      "What film would you like to watch?:krish\n",
      "We don't have that film...\n"
     ]
    }
   ],
   "source": [
    "films = {\n",
    "    \"Finding Dory\":[3,5],\n",
    "    \"Bourne\":[18,5],\n",
    "    \"Tarzan\":[15,5],\n",
    "    \"Ghost Busters\":[12,5]\n",
    "    }\n",
    "\n",
    "while True:\n",
    "\n",
    "    choice = input(\"What film would you like to watch?:\").strip().title()\n",
    "\n",
    "    if choice in films:\n",
    "        age = int(input(\"How old are you?:\").strip())\n",
    "\n",
    "        if age >= films[choice][0]:\n",
    "\n",
    "            num_seats = films[choice][1]\n",
    "\n",
    "            if num_seats > 0:\n",
    "                print(\"Enjoy the film!\")\n",
    "                films[choice][1] = films[choice][1] - 1\n",
    "            else:\n",
    "                print(\"Sorry, We are sold out!\")\n",
    "        else:\n",
    "            print(\"You are to young to see that film!\")\n",
    "    else:\n",
    "        print(\"We don't have that film...\")\n"
   ]
  },
  {
   "cell_type": "markdown",
   "metadata": {},
   "source": [
    "# Project 6"
   ]
  },
  {
   "cell_type": "code",
   "execution_count": 1,
   "metadata": {},
   "outputs": [
    {
     "name": "stdout",
     "output_type": "stream",
     "text": [
      "Why is the sky blue?:because that how light passes through the atmosphere\n",
      "why?:just because\n",
      "Oh...Okay\n"
     ]
    }
   ],
   "source": [
    "from random import choice\n",
    "\n",
    "questions = [\"Why is the sky blue?:\", \"Why is the face on the moon?:\", \"Where are all the dinosaurs?:\"]\n",
    "\n",
    "question = choice(questions)\n",
    "\n",
    "answer = input(question).strip().lower()\n",
    "\n",
    "while answer != \"just because\":\n",
    "    answer = input(\"why?:\").strip().lower()\n",
    "\n",
    "print(\"Oh...Okay\")\n"
   ]
  },
  {
   "cell_type": "markdown",
   "metadata": {},
   "source": [
    "# Project 7"
   ]
  },
  {
   "cell_type": "code",
   "execution_count": 2,
   "metadata": {},
   "outputs": [
    {
     "name": "stdout",
     "output_type": "stream",
     "text": [
      "Please entert a sentence:Hii i am python developer\n",
      "iihayiyayamyayonpythayeveloperday\n"
     ]
    }
   ],
   "source": [
    "orignal = input(\"Please entert a sentence:\").strip().lower()\n",
    "\n",
    "words = orignal.split()\n",
    "\n",
    "new_words = []\n",
    "\n",
    "for word in words:\n",
    "    if word[0] in \"aeiou\":\n",
    "        new_word = word + \"yay\"\n",
    "        new_words.append(new_word)\n",
    "    else:\n",
    "        vowel_pos = 0\n",
    "        for letter in word:\n",
    "            if letter not in \"aeiou\":\n",
    "                vowel_pos += 1\n",
    "            else:\n",
    "                break\n",
    "        cons = word[:vowel_pos]\n",
    "        the_rest = word[vowel_pos:]\n",
    "        new_word = the_rest + cons + \"ay\"\n",
    "        new_words.append(new_word)\n",
    "\n",
    "output = \"\".join(new_words)\n",
    "\n",
    "print(output)\n"
   ]
  },
  {
   "cell_type": "markdown",
   "metadata": {},
   "source": [
    "# Project 8"
   ]
  },
  {
   "cell_type": "code",
   "execution_count": 3,
   "metadata": {},
   "outputs": [
    {
     "name": "stdout",
     "output_type": "stream",
     "text": [
      "\n",
      "| | | |\n",
      "| | | |\n",
      "| | | |\n",
      "\n",
      "Your turn player 1\n",
      "Enter your move(1:9):5\n",
      "\n",
      "| | | |\n",
      "| |X| |\n",
      "| | | |\n",
      "\n",
      "Your turn player 2\n",
      "Enter your move(1:9):2\n",
      "\n",
      "| |O| |\n",
      "| |X| |\n",
      "| | | |\n",
      "\n",
      "Your turn player 1\n",
      "Enter your move(1:9):6\n",
      "\n",
      "| |O| |\n",
      "| |X|X|\n",
      "| | | |\n",
      "\n",
      "Your turn player 2\n",
      "Enter your move(1:9):1\n",
      "\n",
      "|O|O| |\n",
      "| |X|X|\n",
      "| | | |\n",
      "\n",
      "Your turn player 1\n",
      "Enter your move(1:9):3\n",
      "\n",
      "|O|O|X|\n",
      "| |X|X|\n",
      "| | | |\n",
      "\n",
      "Your turn player 2\n",
      "Enter your move(1:9):4\n",
      "\n",
      "|O|O|X|\n",
      "|O|X|X|\n",
      "| | | |\n",
      "\n",
      "Your turn player 1\n",
      "Enter your move(1:9):5\n",
      "\n",
      "That space is taken!\n",
      "\n",
      "|O|O|X|\n",
      "|O|X|X|\n",
      "| | | |\n",
      "\n",
      "Your turn player 2\n",
      "Enter your move(1:9):7\n",
      "\n",
      "|O|O|X|\n",
      "|O|X|X|\n",
      "|O| | |\n",
      "\n",
      "O Wins ! congratulations!\n"
     ]
    }
   ],
   "source": [
    "board=[\" \"for i in range(9)]\n",
    "\n",
    "def print_board():\n",
    "    row1=\"|{}|{}|{}|\".format(board[0],board[1],board[2])\n",
    "    row2=\"|{}|{}|{}|\".format(board[3],board[4],board[5])\n",
    "    row3=\"|{}|{}|{}|\".format(board[6],board[7],board[8])\n",
    "\n",
    "    print()\n",
    "    print(row1)\n",
    "    print(row2)\n",
    "    print(row3)\n",
    "    print()\n",
    "\n",
    "def player_move(icon):\n",
    "\n",
    "    if icon=='X':\n",
    "        number=1\n",
    "    elif icon=='O':\n",
    "        number=2\n",
    "\n",
    "    print(\"Your turn player {}\".format(number))\n",
    "\n",
    "    choice=int(input(\"Enter your move(1:9):\").strip())\n",
    "    if board[choice-1]==\" \":\n",
    "        board[choice-1]=icon\n",
    "    else:\n",
    "        print()\n",
    "        print(\"That space is taken!\")\n",
    "\n",
    "def is_victory(icon):\n",
    "    if (board[0]==icon and board[1]==icon and board[2]==icon)or\\\n",
    "       (board[3]==icon and board[4]==icon and board[5]==icon)or\\\n",
    "       (board[6]==icon and board[7]==icon and board[8]==icon)or\\\n",
    "       (board[0]==icon and board[3]==icon and board[6]==icon)or\\\n",
    "       (board[1]==icon and board[4]==icon and board[7]==icon)or\\\n",
    "       (board[2]==icon and board[5]==icon and board[8]==icon)or\\\n",
    "       (board[0]==icon and board[4]==icon and board[8]==icon)or\\\n",
    "       (board[2]==icon and board[4]==icon and board[6]==icon):\n",
    "        return True\n",
    "    else:\n",
    "        return False\n",
    "\n",
    "def is_draw():\n",
    "    if \" \" not in board:\n",
    "        return True\n",
    "    else:\n",
    "        return False\n",
    "        \n",
    "\n",
    "while True:\n",
    "    print_board()\n",
    "    player_move(\"X\")\n",
    "    print_board()\n",
    "    if is_victory(\"X\"):\n",
    "        print(\"X Wins ! congratulations!\")\n",
    "        break\n",
    "    elif is_draw():\n",
    "        print(\"Its a draw!\")\n",
    "        break\n",
    "    player_move(\"O\")\n",
    "    if is_victory(\"O\"):\n",
    "        print_board()\n",
    "        print(\"O Wins ! congratulations!\")\n",
    "        break\n",
    "    elif is_draw():\n",
    "        print(\"Its a draw!\")\n",
    "        break"
   ]
  },
  {
   "cell_type": "markdown",
   "metadata": {},
   "source": [
    "# Project 9"
   ]
  },
  {
   "cell_type": "code",
   "execution_count": 4,
   "metadata": {},
   "outputs": [
    {
     "name": "stdout",
     "output_type": "stream",
     "text": [
      "Before rusting: gold\n",
      "After rusting: greenish\n"
     ]
    }
   ],
   "source": [
    "import random\n",
    "\n",
    "class Pound:\n",
    "\n",
    "    def __init__(self,rare=False):\n",
    "\n",
    "        self.rare = rare\n",
    "\n",
    "        if self.rare:\n",
    "            self.value = 1.25\n",
    "        else:\n",
    "            self.value = 1.00\n",
    "\n",
    "        self.color = \"gold\"\n",
    "        self.num_age = 1\n",
    "        self.diameter = 22.5\n",
    "        self.thickness = 3.5\n",
    "        self.heads = True\n",
    "\n",
    "    def __del__(self):\n",
    "        print(\"Coin Spent!\")\n",
    "\n",
    "    def rust(self):\n",
    "        self.color = \"greenish\"\n",
    "\n",
    "    def clean(self):\n",
    "        self.color = \"gold\"\n",
    "\n",
    "    def flip(self):\n",
    "        heads_options = [True,False]\n",
    "        choice = random.choice(heads_options)\n",
    "        self.heads = choice\n",
    "coin=Pound()\n",
    "print(\"Before rusting:\",coin.color)\n",
    "coin.rust()\n",
    "print(\"After rusting:\",coin.color)"
   ]
  },
  {
   "cell_type": "markdown",
   "metadata": {},
   "source": [
    "# Project 10"
   ]
  },
  {
   "cell_type": "code",
   "execution_count": 5,
   "metadata": {},
   "outputs": [
    {
     "name": "stdout",
     "output_type": "stream",
     "text": [
      "Coin Spent!\n",
      "1p Coin-Colour:bronze,value:0.01,diameter(mm):20.3,thickness(mm):1.52,number of edges:1,mass(g):3.56\n",
      "2p Coin-Colour:bronze,value:0.02,diameter(mm):25.9,thickness(mm):1.85,number of edges:1,mass(g):7.12\n",
      "5p Coin-Colour:silver,value:0.05,diameter(mm):18.0,thickness(mm):1.77,number of edges:1,mass(g):3.25\n",
      "10p Coin-Colour:silver,value:0.1,diameter(mm):24.5,thickness(mm):1.85,number of edges:1,mass(g):6.5\n",
      "20p Coin-Colour:silver,value:0.2,diameter(mm):21.4,thickness(mm):1.7,number of edges:7,mass(g):5.0\n",
      "50p Coin-Colour:silver,value:0.5,diameter(mm):27.3,thickness(mm):1.78,number of edges:7,mass(g):8.0\n",
      "£1Coin-Colour:gold,value:1.0,diameter(mm):22.5,thickness(mm):3.15,number of edges:1,mass(g):9.5\n",
      "£2Coin-Colour:gold & silver,value:2.0,diameter(mm):28.4,thickness(mm):2.5,number of edges:1,mass(g):12.0\n"
     ]
    }
   ],
   "source": [
    "import random\n",
    "\n",
    "class Coin:\n",
    "    def __init__(self,rare = False , clean = True, heads= True, **kwargs):\n",
    "\n",
    "        for key,value in kwargs.items():\n",
    "            setattr(self,key,value)\n",
    "\n",
    "\n",
    "        self.is_rare = rare\n",
    "        self.is_clean = clean\n",
    "        self.heads = heads\n",
    "\n",
    "        if self.is_rare:\n",
    "            self.value = self.orignal_value*1.25\n",
    "        else:\n",
    "            self.value = self.orignal_value\n",
    "\n",
    "        if self.is_clean:\n",
    "            self.colour = self.clean_colour\n",
    "        else:\n",
    "            self.colour = self.rusty_colour\n",
    "\n",
    "    def __del__(self):\n",
    "        print(\"Coin Spent!\")\n",
    "\n",
    "    def rust(self):\n",
    "        self.colour = self.rusty_colour\n",
    "\n",
    "    def clean(self):\n",
    "        self.colour = self.clean_colour\n",
    "\n",
    "    def flip(self):\n",
    "        heads_options = [True,False]\n",
    "        choice = random.choice(heads_options)\n",
    "        self.heads = choice\n",
    "\n",
    "    def __str__(self):\n",
    "        if self.orignal_value>=1:\n",
    "            return \"£{}Coin\".format(int(self.orignal_value))\n",
    "        else:\n",
    "            return \"{}p Coin\".format(int(self.orignal_value*100))\n",
    "            \n",
    "\n",
    "\n",
    "\n",
    "class One_Pence(Coin):\n",
    "\n",
    "    def __init__(self):\n",
    "        data = {\n",
    "            \"orignal_value\":0.01,\n",
    "            \"clean_colour\":\"bronze\",\n",
    "            \"rusty_colour\":\"brownish\",\n",
    "            \"num_edges\":1,\n",
    "            \"diameter\":20.3,\n",
    "            \"thickness\":1.52,\n",
    "            \"mass\":3.56\n",
    "            }\n",
    "        super().__init__(**data)\n",
    "\n",
    "\n",
    "class Two_Pence(Coin):\n",
    "\n",
    "    def __init__(self):\n",
    "        data = {\n",
    "            \"orignal_value\":0.02,\n",
    "            \"clean_colour\":\"bronze\",\n",
    "            \"rusty_colour\":\"brownish\",\n",
    "            \"num_edges\":1,\n",
    "            \"diameter\":25.9,\n",
    "            \"thickness\":1.85,\n",
    "            \"mass\":7.12\n",
    "            }\n",
    "        super().__init__(**data)\n",
    "\n",
    "\n",
    "class Five_Pence(Coin):\n",
    "\n",
    "    def __init__(self):\n",
    "        data = {\n",
    "            \"orignal_value\":0.05,\n",
    "            \"clean_colour\":\"silver\",\n",
    "            \"rusty_colour\":None,\n",
    "            \"num_edges\":1,\n",
    "            \"diameter\":18.0,\n",
    "            \"thickness\":1.77,\n",
    "            \"mass\":3.25\n",
    "            }\n",
    "        super().__init__(**data)\n",
    "\n",
    "        def rust(self):\n",
    "            self.colour = self.rusty_colour\n",
    "\n",
    "        def clean(self):\n",
    "            self.colour = self.clean_colour\n",
    "\n",
    "\n",
    "class Ten_Pence(Coin):\n",
    "\n",
    "    def __init__(self):\n",
    "        data = {\n",
    "            \"orignal_value\":0.10,\n",
    "            \"clean_colour\":\"silver\",\n",
    "            \"rusty_colour\":None,\n",
    "            \"num_edges\":1,\n",
    "            \"diameter\":24.5,\n",
    "            \"thickness\":1.85,\n",
    "            \"mass\":6.50\n",
    "            }\n",
    "        super().__init__(**data)\n",
    "\n",
    "        def rust(self):\n",
    "            self.colour = self.rusty_colour\n",
    "\n",
    "        def clean(self):\n",
    "            self.colour = self.clean_colour\n",
    "\n",
    "\n",
    "class Twenty_Pence(Coin):\n",
    "\n",
    "    def __init__(self):\n",
    "        data = {\n",
    "            \"orignal_value\":0.20,\n",
    "            \"clean_colour\":\"silver\",\n",
    "            \"rusty_colour\":None,\n",
    "            \"num_edges\":7,\n",
    "            \"diameter\":21.4,\n",
    "            \"thickness\":1.7,\n",
    "            \"mass\":5.00\n",
    "            }\n",
    "        super().__init__(**data)\n",
    "\n",
    "        def rust(self):\n",
    "            self.colour = self.rusty_colour\n",
    "\n",
    "        def clean(self):\n",
    "            self.colour = self.clean_colour\n",
    "\n",
    "\n",
    "\n",
    "class Fifty_Pence(Coin):\n",
    "\n",
    "    def __init__(self):\n",
    "        data = {\n",
    "            \"orignal_value\":0.50,\n",
    "            \"clean_colour\":\"silver\",\n",
    "            \"rusty_colour\":None,\n",
    "            \"num_edges\":7,\n",
    "            \"diameter\":27.3,\n",
    "            \"thickness\":1.78,\n",
    "            \"mass\":8.00\n",
    "            }\n",
    "        super().__init__(**data)\n",
    "\n",
    "        def rust(self):\n",
    "            self.colour = self.rusty_colour\n",
    "\n",
    "        def clean(self):\n",
    "            self.colour = self.clean_colour\n",
    "\n",
    "\n",
    "        \n",
    "class One_Pound(Coin):\n",
    "\n",
    "    def __init__(self):\n",
    "        data = {\n",
    "            \"orignal_value\":1.00,\n",
    "            \"clean_colour\":\"gold\",\n",
    "            \"rusty_colour\":\"greenish\",\n",
    "            \"num_edges\":1,\n",
    "            \"diameter\":22.5,\n",
    "            \"thickness\":3.15,\n",
    "            \"mass\":9.5\n",
    "            }\n",
    "        super().__init__(**data)\n",
    "\n",
    "\n",
    "       \n",
    "class Two_Pound(Coin):\n",
    "\n",
    "    def __init__(self):\n",
    "        data = {\n",
    "            \"orignal_value\":2.00,\n",
    "            \"clean_colour\":\"gold & silver\",\n",
    "            \"rusty_colour\":\"greenish\",\n",
    "            \"num_edges\":1,\n",
    "            \"diameter\":28.4,\n",
    "            \"thickness\":2.50,\n",
    "            \"mass\":12.00\n",
    "            }\n",
    "        super().__init__(**data)\n",
    "\n",
    "\n",
    "coins=[One_Pence(),Two_Pence(),Five_Pence(),Ten_Pence(),Twenty_Pence(),\n",
    "       Fifty_Pence(),One_Pound(),Two_Pound()]\n",
    "\n",
    "for coin in coins:\n",
    "    arguments=[coin, coin.colour,coin.value,coin.diameter,coin.thickness,\n",
    "               coin.num_edges,coin.mass]\n",
    "\n",
    "    string=\"{}-Colour:{},value:{},diameter(mm):{},thickness(mm):{},number of edges:{},mass(g):{}\".format(*arguments)\n",
    "\n",
    "    print(string)"
   ]
  },
  {
   "cell_type": "markdown",
   "metadata": {},
   "source": [
    "# Project 11"
   ]
  },
  {
   "cell_type": "code",
   "execution_count": 9,
   "metadata": {},
   "outputs": [],
   "source": [
    "class Account:\n",
    "    def __init__(self,name,balance,min_balance):\n",
    "        self.name=name\n",
    "        self.balance=balance\n",
    "        self.min_balance=min_balance\n",
    "\n",
    "    def deposit(self,amount):\n",
    "        self.balance += amount\n",
    "\n",
    "    def withdraw(self,amount):\n",
    "        if self.balance-amount >= self.min_balance:\n",
    "            self.balance -= amount\n",
    "        else:\n",
    "            print(\"Sorry, not enough funds!\")\n",
    "\n",
    "    def statement(self):\n",
    "        print(\"Account Balance: £{}\".format(self.balance))\n",
    "\n",
    "class Current(Account):\n",
    "    def __init__(self,name,balance):\n",
    "        super().__init__(name,balance,min_balance =-1000)\n",
    "\n",
    "    def __str__(self):\n",
    "        return \"{}'s Current Account: Balance £{}\".format(self.name,self.balance)\n",
    "\n",
    "\n",
    "class Saving(Account):\n",
    "    def __init__(self,name,balance):\n",
    "        super().__init__(name,balance,min_balance =0)\n",
    "\n",
    "    def __str__(self):\n",
    "        return \"{}'s Saving Account: Balance £{}\".format(self.name,self.balance)\n",
    "\n",
    "\n",
    "x=Current(\"Ziyad\",500)\n",
    "\n"
   ]
  },
  {
   "cell_type": "code",
   "execution_count": 10,
   "metadata": {},
   "outputs": [
    {
     "name": "stdout",
     "output_type": "stream",
     "text": [
      "Tom's Saving Account: Balance £300\n"
     ]
    }
   ],
   "source": [
    "T=Saving(\"Tom\",300)\n",
    "print(T)\n"
   ]
  },
  {
   "cell_type": "code",
   "execution_count": 11,
   "metadata": {},
   "outputs": [],
   "source": [
    "T.withdraw(300)"
   ]
  },
  {
   "cell_type": "code",
   "execution_count": 12,
   "metadata": {},
   "outputs": [
    {
     "name": "stdout",
     "output_type": "stream",
     "text": [
      "Account Balance: £0\n"
     ]
    }
   ],
   "source": [
    "T.statement()"
   ]
  },
  {
   "cell_type": "code",
   "execution_count": 13,
   "metadata": {},
   "outputs": [
    {
     "name": "stdout",
     "output_type": "stream",
     "text": [
      "Sorry, not enough funds!\n"
     ]
    }
   ],
   "source": [
    "T.withdraw(1)"
   ]
  },
  {
   "cell_type": "code",
   "execution_count": 15,
   "metadata": {},
   "outputs": [
    {
     "name": "stdout",
     "output_type": "stream",
     "text": [
      "Ziyad's Current Account: Balance £500\n"
     ]
    }
   ],
   "source": [
    "print(x)"
   ]
  },
  {
   "cell_type": "code",
   "execution_count": 16,
   "metadata": {},
   "outputs": [],
   "source": [
    "x.withdraw(1500)"
   ]
  },
  {
   "cell_type": "code",
   "execution_count": 17,
   "metadata": {},
   "outputs": [
    {
     "name": "stdout",
     "output_type": "stream",
     "text": [
      "Account Balance: £-1000\n"
     ]
    }
   ],
   "source": [
    "x.statement()"
   ]
  },
  {
   "cell_type": "code",
   "execution_count": 18,
   "metadata": {},
   "outputs": [
    {
     "name": "stdout",
     "output_type": "stream",
     "text": [
      "Sorry, not enough funds!\n"
     ]
    }
   ],
   "source": [
    "x.withdraw(1)"
   ]
  },
  {
   "cell_type": "code",
   "execution_count": null,
   "metadata": {},
   "outputs": [],
   "source": []
  }
 ],
 "metadata": {
  "kernelspec": {
   "display_name": "Python 3",
   "language": "python",
   "name": "python3"
  },
  "language_info": {
   "codemirror_mode": {
    "name": "ipython",
    "version": 3
   },
   "file_extension": ".py",
   "mimetype": "text/x-python",
   "name": "python",
   "nbconvert_exporter": "python",
   "pygments_lexer": "ipython3",
   "version": "3.7.2"
  }
 },
 "nbformat": 4,
 "nbformat_minor": 4
}
